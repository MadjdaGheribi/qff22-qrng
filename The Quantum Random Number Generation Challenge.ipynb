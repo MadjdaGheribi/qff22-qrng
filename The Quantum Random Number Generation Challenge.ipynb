{
  "nbformat": 4,
  "nbformat_minor": 0,
  "metadata": {
    "colab": {
      "provenance": [],
      "collapsed_sections": []
    },
    "kernelspec": {
      "name": "python3",
      "display_name": "Python 3"
    },
    "language_info": {
      "name": "python"
    }
  },
  "cells": [
    {
      "cell_type": "code",
      "execution_count": null,
      "metadata": {
        "id": "tn3oXDhhiVUl"
      },
      "outputs": [],
      "source": []
    },
    {
      "cell_type": "markdown",
      "source": [
        "1- how can you use a quantum system/concept to generate a random bitstring:\n",
        "\n",
        "After the workshop, we did today we conclude that there exists more advanced algorithm's to generate random numbers but generating truly random numbers using a classical computer or a classical system is impossible. But the use of quantum computers, in this case, is very helpful because while the numbers generated from a quantum computer are amongst the most random, the practicality of connecting to one of IBM's quantum computers to generate a large amount of these numbers is nonexistent. For most real-world use cases that require such high-caliber random numbers, an off-the-shelf hardware RNG would suffice."
      ],
      "metadata": {
        "id": "xY2rehQ3ioyM"
      }
    },
    {
      "cell_type": "markdown",
      "source": [
        "2- Coding a quantum circuit in Qiskit and executing it on a simulator qasm_simulator.\n",
        "\n"
      ],
      "metadata": {
        "id": "cb01sbsIicJR"
      }
    },
    {
      "cell_type": "code",
      "source": [
        "from qiskit import Aer, transpile\n",
        "from qiskit.visualization import plot_bloch_multivector\n",
        "\n",
        "\n",
        "backend = Aer.get_backend(\"qasm_simulator\")\n",
        "\n",
        "bitstring = \"\"\n",
        "qc = QuantumCircuit(1, 1)\n",
        "\n"
      ],
      "metadata": {
        "id": "hb_geDssi1UD"
      },
      "execution_count": null,
      "outputs": []
    },
    {
      "cell_type": "markdown",
      "source": [
        "4- to improve the results that we got in task 3 we should:\n",
        "- provide a good environment for our quantum computers\n",
        "regarding temperature and vacuum ( Temp = -273C & a complete vacuum). \n",
        "- Use well-defined Noise Models at varying scale\n",
        "- Use the conjunction of quantum computers and classical computers to take advantage of them.\n",
        "\n"
      ],
      "metadata": {
        "id": "V5HxXZduixDu"
      }
    },
    {
      "cell_type": "markdown",
      "source": [],
      "metadata": {
        "id": "kaoR1obHiXxG"
      }
    }
  ]
}